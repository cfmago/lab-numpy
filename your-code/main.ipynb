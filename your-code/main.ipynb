{
 "cells": [
  {
   "cell_type": "markdown",
   "metadata": {},
   "source": [
    "# Intrduction to NumPy\n",
    "\n",
    "\n",
    "#### 1. Import NumPy under the name np."
   ]
  },
  {
   "cell_type": "code",
   "execution_count": 1,
   "metadata": {},
   "outputs": [],
   "source": [
    "# your code here\n",
    "\n",
    "import numpy as np\n"
   ]
  },
  {
   "cell_type": "markdown",
   "metadata": {},
   "source": [
    "#### 2. Print your NumPy version."
   ]
  },
  {
   "cell_type": "code",
   "execution_count": 2,
   "metadata": {},
   "outputs": [
    {
     "data": {
      "text/plain": [
       "'1.18.1'"
      ]
     },
     "execution_count": 2,
     "metadata": {},
     "output_type": "execute_result"
    }
   ],
   "source": [
    "# your code here\n",
    "\n",
    "np.version.version"
   ]
  },
  {
   "cell_type": "markdown",
   "metadata": {},
   "source": [
    "#### 3. Generate a 2x3x5 3-dimensional array with random values. Assign the array to variable *a*.\n",
    "**Challenge**: there are at least three easy ways that use numpy to generate random arrays. How many ways can you find?"
   ]
  },
  {
   "cell_type": "code",
   "execution_count": 3,
   "metadata": {},
   "outputs": [
    {
     "data": {
      "text/plain": [
       "array([[[0.12622515, 0.74234073, 0.28720891, 0.90645884, 0.47883732],\n",
       "        [0.20866396, 0.22970167, 0.42097244, 0.93608751, 0.77166652],\n",
       "        [0.8804467 , 0.36734131, 0.13991964, 0.43061568, 0.89516475]],\n",
       "\n",
       "       [[0.03356652, 0.38684222, 0.27830817, 0.23018301, 0.84025728],\n",
       "        [0.71392386, 0.38953532, 0.20993318, 0.89906968, 0.65548247],\n",
       "        [0.66942355, 0.98516189, 0.05773723, 0.02194669, 0.30470207]]])"
      ]
     },
     "execution_count": 3,
     "metadata": {},
     "output_type": "execute_result"
    }
   ],
   "source": [
    "# Method 1\n",
    "\n",
    "a = np.random.random(size = (2,3,5))\n",
    "\n",
    "a"
   ]
  },
  {
   "cell_type": "code",
   "execution_count": 4,
   "metadata": {},
   "outputs": [
    {
     "data": {
      "text/plain": [
       "array([[[27, 65, 33, 14, 19],\n",
       "        [88, 69, 78, 38, 76],\n",
       "        [87, 43, 28, 90, 76]],\n",
       "\n",
       "       [[27, 27, 68, 98, 69],\n",
       "        [82, 38, 30, 73, 50],\n",
       "        [52, 39, 72,  9, 68]]])"
      ]
     },
     "execution_count": 4,
     "metadata": {},
     "output_type": "execute_result"
    }
   ],
   "source": [
    "# Method 2\n",
    "\n",
    "a = np.random.randint(100, size = (2,3,5))\n",
    "a"
   ]
  },
  {
   "cell_type": "code",
   "execution_count": 5,
   "metadata": {},
   "outputs": [
    {
     "data": {
      "text/plain": [
       "array([[[0.4382436 , 0.06807011, 0.71598094, 0.41956512, 0.48805571],\n",
       "        [0.48056941, 0.0311562 , 0.57979628, 0.50982657, 0.45538117],\n",
       "        [0.93218416, 0.98913565, 0.49024174, 0.82831139, 0.58396209]],\n",
       "\n",
       "       [[0.20305025, 0.70795304, 0.92825776, 0.75038291, 0.93505778],\n",
       "        [0.92125537, 0.49576392, 0.50468718, 0.51929099, 0.05940104],\n",
       "        [0.86098565, 0.24269009, 0.99939224, 0.59325685, 0.72016905]]])"
      ]
     },
     "execution_count": 5,
     "metadata": {},
     "output_type": "execute_result"
    }
   ],
   "source": [
    "# Method 3\n",
    "\n",
    "a = np.random.rand(2,3,5)\n",
    "\n",
    "a"
   ]
  },
  {
   "cell_type": "markdown",
   "metadata": {},
   "source": [
    "#### 4. Print *a*.\n"
   ]
  },
  {
   "cell_type": "code",
   "execution_count": 6,
   "metadata": {},
   "outputs": [
    {
     "name": "stdout",
     "output_type": "stream",
     "text": [
      "[[[0.4382436  0.06807011 0.71598094 0.41956512 0.48805571]\n",
      "  [0.48056941 0.0311562  0.57979628 0.50982657 0.45538117]\n",
      "  [0.93218416 0.98913565 0.49024174 0.82831139 0.58396209]]\n",
      "\n",
      " [[0.20305025 0.70795304 0.92825776 0.75038291 0.93505778]\n",
      "  [0.92125537 0.49576392 0.50468718 0.51929099 0.05940104]\n",
      "  [0.86098565 0.24269009 0.99939224 0.59325685 0.72016905]]]\n"
     ]
    }
   ],
   "source": [
    "# your code here\n",
    "\n",
    "print(a)"
   ]
  },
  {
   "cell_type": "markdown",
   "metadata": {},
   "source": [
    "#### 5. Create a 5x2x3 3-dimensional array with all values equaling 1. Assign the array to variable *b*."
   ]
  },
  {
   "cell_type": "code",
   "execution_count": 7,
   "metadata": {},
   "outputs": [
    {
     "data": {
      "text/plain": [
       "array([[[1, 1, 1],\n",
       "        [1, 1, 1]],\n",
       "\n",
       "       [[1, 1, 1],\n",
       "        [1, 1, 1]],\n",
       "\n",
       "       [[1, 1, 1],\n",
       "        [1, 1, 1]],\n",
       "\n",
       "       [[1, 1, 1],\n",
       "        [1, 1, 1]],\n",
       "\n",
       "       [[1, 1, 1],\n",
       "        [1, 1, 1]]])"
      ]
     },
     "execution_count": 7,
     "metadata": {},
     "output_type": "execute_result"
    }
   ],
   "source": [
    "# your code here\n",
    "\n",
    "b = np.ones((5,2,3), dtype = int)\n",
    "b"
   ]
  },
  {
   "cell_type": "markdown",
   "metadata": {},
   "source": [
    "#### 6. Print *b*.\n"
   ]
  },
  {
   "cell_type": "code",
   "execution_count": 8,
   "metadata": {},
   "outputs": [
    {
     "name": "stdout",
     "output_type": "stream",
     "text": [
      "[[[1 1 1]\n",
      "  [1 1 1]]\n",
      "\n",
      " [[1 1 1]\n",
      "  [1 1 1]]\n",
      "\n",
      " [[1 1 1]\n",
      "  [1 1 1]]\n",
      "\n",
      " [[1 1 1]\n",
      "  [1 1 1]]\n",
      "\n",
      " [[1 1 1]\n",
      "  [1 1 1]]]\n"
     ]
    }
   ],
   "source": [
    "# your code here\n",
    "\n",
    "print(b)"
   ]
  },
  {
   "cell_type": "markdown",
   "metadata": {},
   "source": [
    "#### 7. Do *a* and *b* have the same size? How do you prove that in Python code?"
   ]
  },
  {
   "cell_type": "code",
   "execution_count": 9,
   "metadata": {},
   "outputs": [
    {
     "data": {
      "text/plain": [
       "True"
      ]
     },
     "execution_count": 9,
     "metadata": {},
     "output_type": "execute_result"
    }
   ],
   "source": [
    "# your code here\n",
    "\n",
    "a.size == b.size"
   ]
  },
  {
   "cell_type": "markdown",
   "metadata": {},
   "source": [
    "#### 8. Are you able to add *a* and *b*? Why or why not?\n"
   ]
  },
  {
   "cell_type": "code",
   "execution_count": 10,
   "metadata": {},
   "outputs": [
    {
     "ename": "ValueError",
     "evalue": "operands could not be broadcast together with shapes (2,3,5) (5,2,3) ",
     "output_type": "error",
     "traceback": [
      "\u001b[0;31m---------------------------------------------------------------------------\u001b[0m",
      "\u001b[0;31mValueError\u001b[0m                                Traceback (most recent call last)",
      "\u001b[0;32m<ipython-input-10-25edfac9705e>\u001b[0m in \u001b[0;36m<module>\u001b[0;34m\u001b[0m\n\u001b[1;32m      1\u001b[0m \u001b[0;31m# your answer here\u001b[0m\u001b[0;34m\u001b[0m\u001b[0;34m\u001b[0m\u001b[0;34m\u001b[0m\u001b[0m\n\u001b[1;32m      2\u001b[0m \u001b[0;34m\u001b[0m\u001b[0m\n\u001b[0;32m----> 3\u001b[0;31m \u001b[0mnp\u001b[0m\u001b[0;34m.\u001b[0m\u001b[0madd\u001b[0m\u001b[0;34m(\u001b[0m\u001b[0ma\u001b[0m\u001b[0;34m,\u001b[0m\u001b[0mb\u001b[0m\u001b[0;34m)\u001b[0m\u001b[0;34m\u001b[0m\u001b[0;34m\u001b[0m\u001b[0m\n\u001b[0m",
      "\u001b[0;31mValueError\u001b[0m: operands could not be broadcast together with shapes (2,3,5) (5,2,3) "
     ]
    }
   ],
   "source": [
    "# your answer here\n",
    "\n",
    "np.add(a,b)\n",
    "\n",
    "#They have different shapes"
   ]
  },
  {
   "cell_type": "markdown",
   "metadata": {},
   "source": [
    "#### 9. Transpose *b* so that it has the same structure of *a* (i.e. become a 2x3x5 array). Assign the transposed array to variable *c*."
   ]
  },
  {
   "cell_type": "code",
   "execution_count": 11,
   "metadata": {},
   "outputs": [
    {
     "data": {
      "text/plain": [
       "(3, 2, 5)"
      ]
     },
     "execution_count": 11,
     "metadata": {},
     "output_type": "execute_result"
    }
   ],
   "source": [
    "# your code here\n",
    "\n",
    "c = b.transpose()\n",
    "c\n",
    "\n",
    "np.shape(c)"
   ]
  },
  {
   "cell_type": "code",
   "execution_count": 12,
   "metadata": {},
   "outputs": [
    {
     "name": "stdout",
     "output_type": "stream",
     "text": [
      "[[[1 1 1]\n",
      "  [1 1 1]]\n",
      "\n",
      " [[1 1 1]\n",
      "  [1 1 1]]\n",
      "\n",
      " [[1 1 1]\n",
      "  [1 1 1]]\n",
      "\n",
      " [[1 1 1]\n",
      "  [1 1 1]]\n",
      "\n",
      " [[1 1 1]\n",
      "  [1 1 1]]]\n",
      "[[[0.4382436  0.06807011 0.71598094 0.41956512 0.48805571]\n",
      "  [0.48056941 0.0311562  0.57979628 0.50982657 0.45538117]\n",
      "  [0.93218416 0.98913565 0.49024174 0.82831139 0.58396209]]\n",
      "\n",
      " [[0.20305025 0.70795304 0.92825776 0.75038291 0.93505778]\n",
      "  [0.92125537 0.49576392 0.50468718 0.51929099 0.05940104]\n",
      "  [0.86098565 0.24269009 0.99939224 0.59325685 0.72016905]]]\n"
     ]
    },
    {
     "data": {
      "text/plain": [
       "(2, 3, 5)"
      ]
     },
     "execution_count": 12,
     "metadata": {},
     "output_type": "execute_result"
    }
   ],
   "source": [
    "print(b)\n",
    "print(a)\n",
    "np.shape(a)"
   ]
  },
  {
   "cell_type": "code",
   "execution_count": 13,
   "metadata": {},
   "outputs": [
    {
     "name": "stdout",
     "output_type": "stream",
     "text": [
      "[[[1 1 1 1 1]\n",
      "  [1 1 1 1 1]\n",
      "  [1 1 1 1 1]]\n",
      "\n",
      " [[1 1 1 1 1]\n",
      "  [1 1 1 1 1]\n",
      "  [1 1 1 1 1]]]\n"
     ]
    },
    {
     "data": {
      "text/plain": [
       "(2, 3, 5)"
      ]
     },
     "execution_count": 13,
     "metadata": {},
     "output_type": "execute_result"
    }
   ],
   "source": [
    "#transpose on its all just reverses the order of the axis\n",
    "#this allows you do define the order in which you want the axis to be transposed\n",
    "\n",
    "c = np.transpose(b, (1,2,0))\n",
    "print(c)\n",
    "\n",
    "np.shape(c)"
   ]
  },
  {
   "cell_type": "markdown",
   "metadata": {},
   "source": [
    "#### 10. Try to add *a* and *c*. Now it should work. Assign the sum to variable *d*. But why does it work now?"
   ]
  },
  {
   "cell_type": "code",
   "execution_count": 14,
   "metadata": {},
   "outputs": [],
   "source": [
    "# your code/answer here\n",
    "\n",
    "d = np.add(a,c)\n",
    "\n",
    "#arrays a and c now have the same shape, each value in array a may be matched to a value in array c"
   ]
  },
  {
   "cell_type": "markdown",
   "metadata": {},
   "source": [
    "#### 11. Print *a* and *d*. Notice the difference and relation of the two array in terms of the values? Explain."
   ]
  },
  {
   "cell_type": "code",
   "execution_count": 15,
   "metadata": {},
   "outputs": [
    {
     "name": "stdout",
     "output_type": "stream",
     "text": [
      "[[[0.4382436  0.06807011 0.71598094 0.41956512 0.48805571]\n",
      "  [0.48056941 0.0311562  0.57979628 0.50982657 0.45538117]\n",
      "  [0.93218416 0.98913565 0.49024174 0.82831139 0.58396209]]\n",
      "\n",
      " [[0.20305025 0.70795304 0.92825776 0.75038291 0.93505778]\n",
      "  [0.92125537 0.49576392 0.50468718 0.51929099 0.05940104]\n",
      "  [0.86098565 0.24269009 0.99939224 0.59325685 0.72016905]]]\n",
      "(2, 3, 5)\n",
      "[[[1.4382436  1.06807011 1.71598094 1.41956512 1.48805571]\n",
      "  [1.48056941 1.0311562  1.57979628 1.50982657 1.45538117]\n",
      "  [1.93218416 1.98913565 1.49024174 1.82831139 1.58396209]]\n",
      "\n",
      " [[1.20305025 1.70795304 1.92825776 1.75038291 1.93505778]\n",
      "  [1.92125537 1.49576392 1.50468718 1.51929099 1.05940104]\n",
      "  [1.86098565 1.24269009 1.99939224 1.59325685 1.72016905]]]\n",
      "(2, 3, 5)\n"
     ]
    }
   ],
   "source": [
    "# your code/answer here\n",
    "\n",
    "print(a)\n",
    "print(np.shape(a))\n",
    "\n",
    "print(d)\n",
    "print(np.shape(d))\n",
    "\n",
    "# np.add(a,c) added each value in array d to each value in array a"
   ]
  },
  {
   "cell_type": "markdown",
   "metadata": {},
   "source": [
    "#### 12. Multiply *a* and *c*. Assign the result to *e*."
   ]
  },
  {
   "cell_type": "code",
   "execution_count": 16,
   "metadata": {},
   "outputs": [
    {
     "data": {
      "text/plain": [
       "array([[[0.4382436 , 0.06807011, 0.71598094, 0.41956512, 0.48805571],\n",
       "        [0.48056941, 0.0311562 , 0.57979628, 0.50982657, 0.45538117],\n",
       "        [0.93218416, 0.98913565, 0.49024174, 0.82831139, 0.58396209]],\n",
       "\n",
       "       [[0.20305025, 0.70795304, 0.92825776, 0.75038291, 0.93505778],\n",
       "        [0.92125537, 0.49576392, 0.50468718, 0.51929099, 0.05940104],\n",
       "        [0.86098565, 0.24269009, 0.99939224, 0.59325685, 0.72016905]]])"
      ]
     },
     "execution_count": 16,
     "metadata": {},
     "output_type": "execute_result"
    }
   ],
   "source": [
    "# your code here\n",
    "\n",
    "e = np.multiply(a,c)\n",
    "e"
   ]
  },
  {
   "cell_type": "markdown",
   "metadata": {},
   "source": [
    "#### 13. Does *e* equal to *a*? Why or why not?\n"
   ]
  },
  {
   "cell_type": "code",
   "execution_count": 17,
   "metadata": {},
   "outputs": [
    {
     "data": {
      "text/plain": [
       "array([[[ True,  True,  True,  True,  True],\n",
       "        [ True,  True,  True,  True,  True],\n",
       "        [ True,  True,  True,  True,  True]],\n",
       "\n",
       "       [[ True,  True,  True,  True,  True],\n",
       "        [ True,  True,  True,  True,  True],\n",
       "        [ True,  True,  True,  True,  True]]])"
      ]
     },
     "execution_count": 17,
     "metadata": {},
     "output_type": "execute_result"
    }
   ],
   "source": [
    "# your code/answer here\n",
    "\n",
    "e == a\n",
    "\n",
    "#each item in array a is equal to each value in array e"
   ]
  },
  {
   "cell_type": "markdown",
   "metadata": {},
   "source": [
    "#### 14. Identify the max, min, and mean values in *d*. Assign those values to variables *d_max*, *d_min* and *d_mean*."
   ]
  },
  {
   "cell_type": "code",
   "execution_count": 18,
   "metadata": {},
   "outputs": [
    {
     "name": "stdout",
     "output_type": "stream",
     "text": [
      "1.9993922412943692\n",
      "1.0311561989364635\n",
      "1.5817358081227961\n"
     ]
    }
   ],
   "source": [
    "# your code here\n",
    "\n",
    "d_max = np.max(d)\n",
    "d_min = np.min(d)\n",
    "d_mean = np.mean(d)\n",
    "\n",
    "print(d_max)\n",
    "print(d_min)\n",
    "print(d_mean)"
   ]
  },
  {
   "cell_type": "markdown",
   "metadata": {},
   "source": [
    "#### 15. Now we want to label the values in *d*. First create an empty array *f* with the same shape (i.e. 2x3x5) as *d* using `np.empty`.\n"
   ]
  },
  {
   "cell_type": "code",
   "execution_count": 19,
   "metadata": {},
   "outputs": [
    {
     "name": "stdout",
     "output_type": "stream",
     "text": [
      "[[[0.4382436  0.06807011 0.71598094 0.41956512 0.48805571]\n",
      "  [0.48056941 0.0311562  0.57979628 0.50982657 0.45538117]\n",
      "  [0.93218416 0.98913565 0.49024174 0.82831139 0.58396209]]\n",
      "\n",
      " [[0.20305025 0.70795304 0.92825776 0.75038291 0.93505778]\n",
      "  [0.92125537 0.49576392 0.50468718 0.51929099 0.05940104]\n",
      "  [0.86098565 0.24269009 0.99939224 0.59325685 0.72016905]]]\n"
     ]
    }
   ],
   "source": [
    "# your code here\n",
    "\n",
    "f = np.empty(shape = (2,3,5), dtype = float)\n",
    "print(f)"
   ]
  },
  {
   "cell_type": "markdown",
   "metadata": {},
   "source": [
    "#### 16. Populate the values in *f*. \n",
    "\n",
    "For each value in *d*, if it's larger than *d_min* but smaller than *d_mean*, assign 25 to the corresponding value in *f*. If a value in *d* is larger than *d_mean* but smaller than *d_max*, assign 75 to the corresponding value in *f*. If a value equals to *d_mean*, assign 50 to the corresponding value in *f*. Assign 0 to the corresponding value(s) in *f* for *d_min* in *d*. Assign 100 to the corresponding value(s) in *f* for *d_max* in *d*. In the end, f should have only the following values: 0, 25, 50, 75, and 100.\n",
    "\n",
    "**Note**: you don't have to use Numpy in this question."
   ]
  },
  {
   "cell_type": "code",
   "execution_count": 38,
   "metadata": {},
   "outputs": [
    {
     "name": "stdout",
     "output_type": "stream",
     "text": [
      "[[[ 25.  25.  75.  25.  25.]\n",
      "  [ 25.   0.  25.  25.  25.]\n",
      "  [ 75.  75.  25.  75.  75.]]\n",
      "\n",
      " [[ 25.  75.  75.  75.  75.]\n",
      "  [ 75.  25.  25.  25.  25.]\n",
      "  [ 75.  25. 100.  75.  75.]]]\n"
     ]
    }
   ],
   "source": [
    "# your code here\n",
    "\n",
    "condition0 = (d == d_min)\n",
    "condition25 = (d > d_min) & (d < d_mean)\n",
    "condition50 = (d == d_mean)\n",
    "condition75 = (d > d_mean) & (d < d_max)\n",
    "condition100 = (d == d_max)\n",
    "\n",
    "f = np.where(condition0, 0, d)\n",
    "f = np.where(condition25, 25, f)\n",
    "f = np.where(condition50, 50, f)\n",
    "f = np.where(condition75, 75, f)\n",
    "f = np.where(condition100, 100, f)\n",
    "      \n",
    "print(f)"
   ]
  },
  {
   "cell_type": "code",
   "execution_count": 39,
   "metadata": {},
   "outputs": [
    {
     "name": "stdout",
     "output_type": "stream",
     "text": [
      "Original array:\n",
      "[[0.42436315 0.48558583 0.32924763]\n",
      " [0.7439979  0.58220701 0.38213418]\n",
      " [0.5097581  0.34528799 0.1563123 ]]\n",
      "Replace all elements of the said array with .5 which are greater than .5\n",
      "[[0.42436315 0.48558583 0.32924763]\n",
      " [0.5        0.5        0.38213418]\n",
      " [0.5        0.34528799 0.1563123 ]]\n"
     ]
    },
    {
     "data": {
      "text/plain": [
       "(3, 3)"
      ]
     },
     "execution_count": 39,
     "metadata": {},
     "output_type": "execute_result"
    }
   ],
   "source": [
    "#Maybe could use something like this as another method together with split?\n",
    "\n",
    "x = np.array([[ 0.42436315, 0.48558583, 0.32924763], [ 0.7439979,0.58220701,0.38213418], [ 0.5097581,0.34528799,0.1563123 ]])\n",
    "\n",
    "print(\"Original array:\")\n",
    "print(x)\n",
    "\n",
    "print(\"Replace all elements of the said array with .5 which are greater than .5\")\n",
    "x[x > .5] = .5\n",
    "print(x)\n",
    "\n",
    "np.shape(x)"
   ]
  },
  {
   "cell_type": "markdown",
   "metadata": {},
   "source": [
    "#### 17. Print *d* and *f*. Do you have your expected *f*?\n",
    "For instance, if your *d* is:\n",
    "```python\n",
    "[[[1.85836099, 1.67064465, 1.62576044, 1.40243961, 1.88454931],\n",
    "[1.75354326, 1.69403643, 1.36729252, 1.61415071, 1.12104981],\n",
    "[1.72201435, 1.1862918 , 1.87078449, 1.7726778 , 1.88180042]],\n",
    "[[1.44747908, 1.31673383, 1.02000951, 1.52218947, 1.97066381],\n",
    "[1.79129243, 1.74983003, 1.96028037, 1.85166831, 1.65450881],\n",
    "[1.18068344, 1.9587381 , 1.00656599, 1.93402165, 1.73514584]]]\n",
    "```\n",
    "Your *f* should be:\n",
    "```python\n",
    "[[[ 75.,  75.,  75.,  25.,  75.],\n",
    "[ 75.,  75.,  25.,  25.,  25.],\n",
    "[ 75.,  25.,  75.,  75.,  75.]],\n",
    "[[ 25.,  25.,  25.,  25., 100.],\n",
    "[ 75.,  75.,  75.,  75.,  75.],\n",
    "[ 25.,  75.,   0.,  75.,  75.]]]\n",
    "```"
   ]
  },
  {
   "cell_type": "code",
   "execution_count": 40,
   "metadata": {},
   "outputs": [
    {
     "name": "stdout",
     "output_type": "stream",
     "text": [
      "[[[1.4382436  1.06807011 1.71598094 1.41956512 1.48805571]\n",
      "  [1.48056941 1.0311562  1.57979628 1.50982657 1.45538117]\n",
      "  [1.93218416 1.98913565 1.49024174 1.82831139 1.58396209]]\n",
      "\n",
      " [[1.20305025 1.70795304 1.92825776 1.75038291 1.93505778]\n",
      "  [1.92125537 1.49576392 1.50468718 1.51929099 1.05940104]\n",
      "  [1.86098565 1.24269009 1.99939224 1.59325685 1.72016905]]]\n",
      "Minimum value in d is 1.0311561989364635\n",
      "Mean of d is 1.5817358081227961\n",
      "Maximum value in d is 1.9993922412943692\n",
      "[[[ 25.  25.  75.  25.  25.]\n",
      "  [ 25.   0.  25.  25.  25.]\n",
      "  [ 75.  75.  25.  75.  75.]]\n",
      "\n",
      " [[ 25.  75.  75.  75.  75.]\n",
      "  [ 75.  25.  25.  25.  25.]\n",
      "  [ 75.  25. 100.  75.  75.]]]\n"
     ]
    }
   ],
   "source": [
    "# your code here\n",
    "\n",
    "print(d)\n",
    "\n",
    "print(\"Minimum value in d is\", d_min)\n",
    "print(\"Mean of d is\", d_mean)\n",
    "print(\"Maximum value in d is\", d_max)\n",
    "\n",
    "print(f)\n",
    "\n",
    "#This is the expected f"
   ]
  },
  {
   "cell_type": "markdown",
   "metadata": {},
   "source": [
    "#### 18. Bonus question: instead of using numbers (i.e. 0, 25, 50, 75, and 100), use string values  (\"A\", \"B\", \"C\", \"D\", and \"E\") to label the array elements. For the example above, the expected result is:\n",
    "\n",
    "```python\n",
    "[[[ 'D',  'D',  'D',  'B',  'D'],\n",
    "[ 'D',  'D',  'B',  'B',  'B'],\n",
    "[ 'D',  'B',  'D',  'D',  'D']],\n",
    "[[ 'B',  'B',  'B',  'B',  'E'],\n",
    "[ 'D',  'D',  'D',  'D',  'D'],\n",
    "[ 'B',  'D',   'A',  'D', 'D']]]\n",
    "```\n",
    "**Note**: you don't have to use Numpy in this question."
   ]
  },
  {
   "cell_type": "code",
   "execution_count": 41,
   "metadata": {},
   "outputs": [
    {
     "name": "stdout",
     "output_type": "stream",
     "text": [
      "[[['B' 'B' 'D' 'B' 'B']\n",
      "  ['B' 'A' 'B' 'B' 'B']\n",
      "  ['D' 'D' 'B' 'D' 'D']]\n",
      "\n",
      " [['B' 'D' 'D' 'D' 'D']\n",
      "  ['D' 'B' 'B' 'B' 'B']\n",
      "  ['D' 'B' 'E' 'D' 'D']]]\n"
     ]
    }
   ],
   "source": [
    "# your code here\n",
    "\n",
    "conditionA = (d == d_min)\n",
    "conditionB = (d > d_min) & (d < d_mean)\n",
    "conditionC = (d == d_mean)\n",
    "conditionD = (d > d_mean) & (d < d_max)\n",
    "conditionE = (d == d_max)\n",
    "\n",
    "f = np.where(conditionA, \"A\", d)\n",
    "f = np.where(conditionB, \"B\", f)\n",
    "f = np.where(conditionC, \"C\", f)\n",
    "f = np.where(conditionD, \"D\", f)\n",
    "f = np.where(conditionE, \"E\", f)\n",
    "      \n",
    "print(f)"
   ]
  },
  {
   "cell_type": "code",
   "execution_count": null,
   "metadata": {},
   "outputs": [],
   "source": []
  }
 ],
 "metadata": {
  "kernelspec": {
   "display_name": "Python 3",
   "language": "python",
   "name": "python3"
  },
  "language_info": {
   "codemirror_mode": {
    "name": "ipython",
    "version": 3
   },
   "file_extension": ".py",
   "mimetype": "text/x-python",
   "name": "python",
   "nbconvert_exporter": "python",
   "pygments_lexer": "ipython3",
   "version": "3.7.6"
  }
 },
 "nbformat": 4,
 "nbformat_minor": 2
}
